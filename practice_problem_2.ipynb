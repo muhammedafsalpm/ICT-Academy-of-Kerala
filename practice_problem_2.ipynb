{
  "nbformat": 4,
  "nbformat_minor": 0,
  "metadata": {
    "colab": {
      "provenance": [],
      "authorship_tag": "ABX9TyMz6HSm0VAiUn7bBA4aOrdg",
      "include_colab_link": true
    },
    "kernelspec": {
      "name": "python3",
      "display_name": "Python 3"
    },
    "language_info": {
      "name": "python"
    }
  },
  "cells": [
    {
      "cell_type": "markdown",
      "metadata": {
        "id": "view-in-github",
        "colab_type": "text"
      },
      "source": [
        "<a href=\"https://colab.research.google.com/github/muhammedafsalpm/ICT-Academy-of-Kerala/blob/main/practice_problem_2.ipynb\" target=\"_parent\"><img src=\"https://colab.research.google.com/assets/colab-badge.svg\" alt=\"Open In Colab\"/></a>"
      ]
    },
    {
      "cell_type": "code",
      "execution_count": 2,
      "metadata": {
        "colab": {
          "base_uri": "https://localhost:8080/"
        },
        "id": "Kn9d7Xo_NCVq",
        "outputId": "a85e545a-03ad-44c3-cd73-8ee85d99771e"
      },
      "outputs": [
        {
          "output_type": "stream",
          "name": "stdout",
          "text": [
            "Enter a string value: assembly\n",
            "a=1, s=2, e=1, m=1, b=1, l=1, y=1\n"
          ]
        }
      ],
      "source": [
        "'''1. Write a Python program to accept a string value from the user and display\n",
        "the count of each character in that string. Sample input: Enter a string\n",
        "value: assembly Sample output: a=1, s=2, e=1, m=1, b=1, l=1, y=1 '''\n",
        "\n",
        "# Accept input from the user\n",
        "user_input = input(\"Enter a string value: \")\n",
        "\n",
        "# Dictionary to hold character counts\n",
        "char_count = {}\n",
        "\n",
        "# Iterate over each character in the string\n",
        "for char in user_input:\n",
        "    if char in char_count:\n",
        "        char_count[char] += 1\n",
        "    else:\n",
        "        char_count[char] = 1\n",
        "\n",
        "# Format the output\n",
        "output = \", \".join([f\"{char}={count}\" for char, count in char_count.items()])\n",
        "\n",
        "# Display the result\n",
        "print(output)\n"
      ]
    },
    {
      "cell_type": "code",
      "source": [
        "'''2. . Write a Python function to find the maximum of three numbers Sample\n",
        "input: 34,12,7 Sample output: 34'''\n",
        "\n",
        "# Accept input from the user\n",
        "num1 = int(input(\"Enter the first number: \"))\n",
        "num2 = int(input(\"Enter the second number: \"))\n",
        "num3 = int(input(\"Enter the third number: \"))\n",
        "\n",
        "# Determine the maximum number\n",
        "if num1 >= num2 and num1 >= num3:\n",
        "    max_number = num1\n",
        "elif num2 >= num1 and num2 >= num3:\n",
        "    max_number = num2\n",
        "else:\n",
        "    max_number = num3\n",
        "\n",
        "# Display the result\n",
        "print(\"The maximum number is:\", max_number)\n"
      ],
      "metadata": {
        "colab": {
          "base_uri": "https://localhost:8080/"
        },
        "id": "CUkEeeTlOCGz",
        "outputId": "7179ca67-a10d-454f-c1d8-9b2366bab5a5"
      },
      "execution_count": 3,
      "outputs": [
        {
          "output_type": "stream",
          "name": "stdout",
          "text": [
            "Enter the first number: 34\n",
            "Enter the second number: 12\n",
            "Enter the third number: 7\n",
            "The maximum number is: 34\n"
          ]
        }
      ]
    },
    {
      "cell_type": "code",
      "source": [
        "'''3. Write a Python function called exponent(base,exp) that returns an\n",
        "integer value of base raises to the power of exp. Sample input: Enter the\n",
        "base: 2 Enter the exponent: 3 Sample output: 8'''\n",
        "\n",
        "def exponent(base, exp):\n",
        "    return base ** exp\n",
        "\n",
        "# Accept input from the user\n",
        "base = int(input(\"Enter the base: \"))\n",
        "exp = int(input(\"Enter the exponent: \"))\n",
        "\n",
        "# Calculate the result\n",
        "result = exponent(base, exp)\n",
        "\n",
        "# Display the result\n",
        "print(f\"{base} raised to the power of {exp} is: {result}\")\n"
      ],
      "metadata": {
        "colab": {
          "base_uri": "https://localhost:8080/"
        },
        "id": "CEZQATrIO0oK",
        "outputId": "754d90cc-3c3e-4d1f-f0e9-633b1d754dbb"
      },
      "execution_count": 4,
      "outputs": [
        {
          "output_type": "stream",
          "name": "stdout",
          "text": [
            "Enter the base: 2\n",
            "Enter the exponent: 3\n",
            "2 raised to the power of 3 is: 8\n"
          ]
        }
      ]
    },
    {
      "cell_type": "code",
      "source": [
        "'''4. Write a Python function that takes a positive integer and returns the sum\n",
        "of the cube of all the positive integers smaller than the specified number.\n",
        "Sample input: 4 Sample output: 36.'''\n",
        "\n",
        "def sum_of_cubes(n):\n",
        "    # Initialize the sum\n",
        "    total = 0\n",
        "\n",
        "    # Iterate over all positive integers smaller than n\n",
        "    for i in range(1, n):\n",
        "        # Add the cube of the current integer to the total\n",
        "        total += i ** 3\n",
        "\n",
        "    return total\n",
        "\n",
        "# Accept input from the user\n",
        "num = int(input(\"Enter a positive integer: \"))\n",
        "\n",
        "# Calculate the sum of cubes\n",
        "result = sum_of_cubes(num)\n",
        "\n",
        "# Display the result\n",
        "print(f\"The sum of the cubes of all positive integers smaller than {num} is: {result}\")\n"
      ],
      "metadata": {
        "colab": {
          "base_uri": "https://localhost:8080/"
        },
        "id": "JxNShvQnP3yj",
        "outputId": "4b892b2f-daf0-4828-b37d-1e5ba6db405d"
      },
      "execution_count": 5,
      "outputs": [
        {
          "output_type": "stream",
          "name": "stdout",
          "text": [
            "Enter a positive integer: 4\n",
            "The sum of the cubes of all positive integers smaller than 4 is: 36\n"
          ]
        }
      ]
    },
    {
      "cell_type": "code",
      "source": [
        "'''5. Write a Python program which iterates from 1 to 10. For multiples of 2,\n",
        "print “Fizz” instead of the number and for the multiples of 5, print “Buzz”.\n",
        "For numbers which are multiples of both 2 and 5, print “FizzBuzz”.\n",
        "Sample input: numbers from 1 to 10 Sample output: 1 Fizz 3 Fizz Buzz\n",
        "Fizz 7 Fizz 9 FizzBuzz'''\n",
        "\n",
        "# Iterate from 1 to 10\n",
        "for i in range(1, 11):\n",
        "    if i % 2 == 0 and i % 5 == 0:\n",
        "        print(\"FizzBuzz\")\n",
        "    elif i % 2 == 0:\n",
        "        print(\"Fizz\")\n",
        "    elif i % 5 == 0:\n",
        "        print(\"Buzz\")\n",
        "    else:\n",
        "        print(i)\n"
      ],
      "metadata": {
        "colab": {
          "base_uri": "https://localhost:8080/"
        },
        "id": "PTPsMHiWQrWM",
        "outputId": "75d97ec7-0360-461f-83b3-f083ad12c078"
      },
      "execution_count": 6,
      "outputs": [
        {
          "output_type": "stream",
          "name": "stdout",
          "text": [
            "1\n",
            "Fizz\n",
            "3\n",
            "Fizz\n",
            "Buzz\n",
            "Fizz\n",
            "7\n",
            "Fizz\n",
            "9\n",
            "FizzBuzz\n"
          ]
        }
      ]
    },
    {
      "cell_type": "code",
      "source": [
        "'''6. Write a Python program to find the most frequent item in a list of\n",
        "numbers. Sample input: 2, 3, 4, 2, 5, 2 Sample output: 2'''\n",
        "\n",
        "from collections import Counter\n",
        "\n",
        "# Accept input from the user\n",
        "numbers = input(\"Enter a list of numbers separated by commas: \").split(',')\n",
        "numbers = [int(num) for num in numbers]\n",
        "\n",
        "# Count the frequency of each item in the list\n",
        "counter = Counter(numbers)\n",
        "\n",
        "# Find the most frequent item\n",
        "most_frequent_item = counter.most_common(1)[0][0]\n",
        "\n",
        "# Display the result\n",
        "print(f\"The most frequent item is: {most_frequent_item}\")\n"
      ],
      "metadata": {
        "colab": {
          "base_uri": "https://localhost:8080/"
        },
        "id": "YTuLI1UgRzAW",
        "outputId": "0f1b1a07-ada0-492a-fe60-0d11762f3c88"
      },
      "execution_count": 7,
      "outputs": [
        {
          "output_type": "stream",
          "name": "stdout",
          "text": [
            "Enter a list of numbers separated by commas: 2,3,4,2,5,2\n",
            "The most frequent item is: 2\n"
          ]
        }
      ]
    },
    {
      "cell_type": "code",
      "source": [
        "'''7. Write a Python program to find the sum of squares of the numbers in a\n",
        "list. Sample input: 2,1,3,1 Sample output: 15'''\n",
        "\n",
        "# Accept input from the user\n",
        "numbers = input(\"Enter a list of numbers separated by commas: \").split(',')\n",
        "numbers = [int(num) for num in numbers]\n",
        "\n",
        "# Calculate the sum of squares\n",
        "sum_of_squares = sum(num**2 for num in numbers)\n",
        "\n",
        "# Display the result\n",
        "print(f\"The sum of squares of the numbers is: {sum_of_squares}\")\n"
      ],
      "metadata": {
        "colab": {
          "base_uri": "https://localhost:8080/"
        },
        "id": "I5HSzH9cTlpU",
        "outputId": "e9d7622e-0f19-4599-a9d7-cf9aa2748807"
      },
      "execution_count": 8,
      "outputs": [
        {
          "output_type": "stream",
          "name": "stdout",
          "text": [
            "Enter a list of numbers separated by commas: 2,1,3,1\n",
            "The sum of squares of the numbers is: 15\n"
          ]
        }
      ]
    },
    {
      "cell_type": "code",
      "source": [
        "'''8. Write a Python program using for loop that will iterate from 1 to 15. For\n",
        "each iteration, check if the current number is odd or even, and display the\n",
        "message to the screen as odd or even. Sample input: 1….15 Sample\n",
        "output: 1-odd 2-even …. 15-odd'''\n",
        "\n",
        "# Iterate from 1 to 15\n",
        "for i in range(1, 16):\n",
        "    # Check if the current number is odd or even\n",
        "    if i % 2 == 0:\n",
        "        print(f\"{i}-even\")\n",
        "    else:\n",
        "        print(f\"{i}-odd\")\n",
        "\n",
        "\n"
      ],
      "metadata": {
        "colab": {
          "base_uri": "https://localhost:8080/"
        },
        "id": "21xDwHQ_UwBm",
        "outputId": "b1436e5d-7709-4a2c-f2b7-b02bd2e87669"
      },
      "execution_count": 11,
      "outputs": [
        {
          "output_type": "stream",
          "name": "stdout",
          "text": [
            "1-odd\n",
            "2-even\n",
            "3-odd\n",
            "4-even\n",
            "5-odd\n",
            "6-even\n",
            "7-odd\n",
            "8-even\n",
            "9-odd\n",
            "10-even\n",
            "11-odd\n",
            "12-even\n",
            "13-odd\n",
            "14-even\n",
            "15-odd\n"
          ]
        }
      ]
    },
    {
      "cell_type": "code",
      "source": [
        "'''9. Write a Python program to convert temperatures to and from Celsius\n",
        "Fahrenheit. [Formula: c/5=f-32/9 where c=temperature in Celsius and f=\n",
        "temperature in Fahrenheit.] Sample input: Temperature in Fahrenheit\n",
        "=41 Sample output: Temperature in Celsius =5'''\n",
        "\n",
        "def fahrenheit_to_celsius(f):\n",
        "    c = (f - 32) * 5 / 9\n",
        "    return c\n",
        "\n",
        "def celsius_to_fahrenheit(c):\n",
        "    f = (c * 9 / 5) + 32\n",
        "    return f\n",
        "\n",
        "# Sample input (Temperature in Fahrenheit)\n",
        "temperature_fahrenheit = float(input(\"Temperature in Fahrenheit: \"))\n",
        "\n",
        "# Convert Fahrenheit to Celsius\n",
        "temperature_celsius = fahrenheit_to_celsius(temperature_fahrenheit)\n",
        "\n",
        "# Display the result\n",
        "print(\"Temperature in Celsius:\", temperature_celsius)\n"
      ],
      "metadata": {
        "colab": {
          "base_uri": "https://localhost:8080/"
        },
        "id": "QJw10OMMY9-Z",
        "outputId": "013e5686-cf20-4b0a-ae77-76f2e3c6d40e"
      },
      "execution_count": 12,
      "outputs": [
        {
          "output_type": "stream",
          "name": "stdout",
          "text": [
            "Temperature in Fahrenheit: 41\n",
            "Temperature in Celsius: 5.0\n"
          ]
        }
      ]
    },
    {
      "cell_type": "code",
      "source": [
        "'''10. Write a Python function to calculate the factorial of a number (a\n",
        "nonnegative integer). The function accepts the number as an argument.\n",
        "Sample input: 3 Sample output: 6'''\n",
        "\n",
        "def factorial(n):\n",
        "    # Base case: factorial of 0 is 1\n",
        "    if n == 0:\n",
        "        return 1\n",
        "    # Recursive case: factorial of n is n * factorial(n-1)\n",
        "    else:\n",
        "        return n * factorial(n - 1)\n",
        "\n",
        "# Sample input\n",
        "num = int(input(\"Enter a non-negative integer: \"))\n",
        "\n",
        "# Calculate the factorial\n",
        "result = factorial(num)\n",
        "\n",
        "# Display the result\n",
        "print(\"Factorial of\", num, \"is:\", result)\n"
      ],
      "metadata": {
        "colab": {
          "base_uri": "https://localhost:8080/"
        },
        "id": "Q35jb05SZSsN",
        "outputId": "5ea6d805-940b-41f6-a36c-e6bc91af361f"
      },
      "execution_count": 13,
      "outputs": [
        {
          "output_type": "stream",
          "name": "stdout",
          "text": [
            "Enter a non-negative integer: 3\n",
            "Factorial of 3 is: 6\n"
          ]
        }
      ]
    }
  ]
}