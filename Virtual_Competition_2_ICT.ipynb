{
  "nbformat": 4,
  "nbformat_minor": 0,
  "metadata": {
    "colab": {
      "provenance": [],
      "authorship_tag": "ABX9TyP+ErWyp3KbttfbnsRWWqyv",
      "include_colab_link": true
    },
    "kernelspec": {
      "name": "python3",
      "display_name": "Python 3"
    },
    "language_info": {
      "name": "python"
    }
  },
  "cells": [
    {
      "cell_type": "markdown",
      "metadata": {
        "id": "view-in-github",
        "colab_type": "text"
      },
      "source": [
        "<a href=\"https://colab.research.google.com/github/muhammedafsalpm/ICT-Academy-of-Kerala/blob/main/Virtual_Competition_2_ICT.ipynb\" target=\"_parent\"><img src=\"https://colab.research.google.com/assets/colab-badge.svg\" alt=\"Open In Colab\"/></a>"
      ]
    },
    {
      "cell_type": "markdown",
      "source": [
        "# Virtual Competition 2"
      ],
      "metadata": {
        "id": "8UjKs8R9E8XT"
      }
    },
    {
      "cell_type": "code",
      "source": [
        "import pandas as pd\n",
        "import numpy as np\n",
        "import seaborn as sns\n",
        "import matplotlib.pyplot as plt\n",
        "from sklearn.model_selection import train_test_split, GridSearchCV\n",
        "from sklearn.preprocessing import LabelEncoder, StandardScaler\n",
        "from sklearn.impute import SimpleImputer\n",
        "from sklearn.linear_model import LogisticRegression\n",
        "from sklearn.ensemble import RandomForestClassifier\n",
        "from sklearn.metrics import accuracy_score, classification_report\n",
        "\n",
        "# Load the datasets\n",
        "test_data = pd.read_csv('/content/test_lAUu6dG.csv')\n",
        "train_data = pd.read_csv('/content/train_ctrUa4K.csv')\n",
        "\n"
      ],
      "metadata": {
        "id": "JdfOe7F0FBGM"
      },
      "execution_count": 12,
      "outputs": []
    },
    {
      "cell_type": "code",
      "source": [
        "# Exploratory Data Analysis (EDA)\n",
        "# Train Dataset EDA\n",
        "print(train_data.info())\n",
        "print(train_data.describe())\n",
        "sns.countplot(x='Loan_Status', data=train_data)\n",
        "plt.show()\n"
      ],
      "metadata": {
        "colab": {
          "base_uri": "https://localhost:8080/",
          "height": 1000
        },
        "id": "vAiFAIz8FNGO",
        "outputId": "5311bc4e-a7d4-4914-8ab9-64c1de287731"
      },
      "execution_count": 13,
      "outputs": [
        {
          "output_type": "stream",
          "name": "stdout",
          "text": [
            "<class 'pandas.core.frame.DataFrame'>\n",
            "RangeIndex: 614 entries, 0 to 613\n",
            "Data columns (total 13 columns):\n",
            " #   Column             Non-Null Count  Dtype  \n",
            "---  ------             --------------  -----  \n",
            " 0   Loan_ID            614 non-null    object \n",
            " 1   Gender             601 non-null    object \n",
            " 2   Married            611 non-null    object \n",
            " 3   Dependents         599 non-null    object \n",
            " 4   Education          614 non-null    object \n",
            " 5   Self_Employed      582 non-null    object \n",
            " 6   ApplicantIncome    614 non-null    int64  \n",
            " 7   CoapplicantIncome  614 non-null    float64\n",
            " 8   LoanAmount         592 non-null    float64\n",
            " 9   Loan_Amount_Term   600 non-null    float64\n",
            " 10  Credit_History     564 non-null    float64\n",
            " 11  Property_Area      614 non-null    object \n",
            " 12  Loan_Status        614 non-null    object \n",
            "dtypes: float64(4), int64(1), object(8)\n",
            "memory usage: 62.5+ KB\n",
            "None\n",
            "       ApplicantIncome  CoapplicantIncome  LoanAmount  Loan_Amount_Term  \\\n",
            "count       614.000000         614.000000  592.000000         600.00000   \n",
            "mean       5403.459283        1621.245798  146.412162         342.00000   \n",
            "std        6109.041673        2926.248369   85.587325          65.12041   \n",
            "min         150.000000           0.000000    9.000000          12.00000   \n",
            "25%        2877.500000           0.000000  100.000000         360.00000   \n",
            "50%        3812.500000        1188.500000  128.000000         360.00000   \n",
            "75%        5795.000000        2297.250000  168.000000         360.00000   \n",
            "max       81000.000000       41667.000000  700.000000         480.00000   \n",
            "\n",
            "       Credit_History  \n",
            "count      564.000000  \n",
            "mean         0.842199  \n",
            "std          0.364878  \n",
            "min          0.000000  \n",
            "25%          1.000000  \n",
            "50%          1.000000  \n",
            "75%          1.000000  \n",
            "max          1.000000  \n"
          ]
        },
        {
          "output_type": "display_data",
          "data": {
            "text/plain": [
              "<Figure size 640x480 with 1 Axes>"
            ],
            "image/png": "[encoded data removed]"
          },
          "metadata": {}
        }
      ]
    },
    {
      "cell_type": "code",
      "source": [
        "\n",
        "# Pre-processing\n",
        "# Handle missing values for train and test datasets separately\n",
        "imputer = SimpleImputer(strategy='mean')\n",
        "\n",
        "# Ensure missing values are imputed for numeric columns\n",
        "for column in ['LoanAmount', 'Loan_Amount_Term', 'Credit_History']:\n",
        "    train_data[column] = imputer.fit_transform(train_data[[column]])\n",
        "    test_data[column] = imputer.transform(test_data[[column]])\n",
        "\n",
        "# Handle categorical variables\n",
        "label_enc = LabelEncoder()\n",
        "for column in ['Gender', 'Married', 'Dependents', 'Education', 'Self_Employed', 'Property_Area']:\n",
        "    train_data[column] = label_enc.fit_transform(train_data[column].astype(str))\n",
        "    test_data[column] = label_enc.transform(test_data[column].astype(str))"
      ],
      "metadata": {
        "id": "BW6MleQbFYje"
      },
      "execution_count": 14,
      "outputs": []
    },
    {
      "cell_type": "code",
      "source": [
        "# Check for NaN values in the train and validation datasets\n",
        "print(\"NaN values in X_train:\", np.isnan(X_train).sum())\n",
        "print(\"NaN values in X_val:\", np.isnan(X_val).sum())\n",
        "\n",
        "# If NaN values are present, inspect and handle them\n",
        "if np.isnan(X_train).sum() > 0:\n",
        "    print(\"Columns with NaN values in X_train:\")\n",
        "    for col in X.columns:\n",
        "        if np.isnan(X_train[:, X.columns.get_loc(col)]).sum() > 0:\n",
        "            print(f\"{col} has NaN values\")\n",
        "\n",
        "# If no NaN values are present, proceed with model training\n",
        "if np.isnan(X_train).sum() == 0 and np.isnan(X_val).sum() == 0:\n",
        "    # Modeling\n",
        "    # Logistic Regression\n",
        "    logit_model = LogisticRegression()\n",
        "    logit_model.fit(X_train, y_train)\n",
        "    y_val_pred = logit_model.predict(X_val)\n",
        "    print(f'Logistic Regression Accuracy: {accuracy_score(y_val, y_val_pred)}')\n",
        "    print(classification_report(y_val, y_val_pred))\n",
        "\n",
        "    # Random Forest\n",
        "    rf_model = RandomForestClassifier(random_state=42)\n",
        "    rf_model.fit(X_train, y_train)\n",
        "    y_val_pred = rf_model.predict(X_val)\n",
        "    print(f'Random Forest Accuracy: {accuracy_score(y_val, y_val_pred)}')\n",
        "    print(classification_report(y_val, y_val_pred))\n"
      ],
      "metadata": {
        "colab": {
          "base_uri": "https://localhost:8080/"
        },
        "id": "yUZz1kBzFgbx",
        "outputId": "a46c4ced-2db6-4d4e-c404-f965fcefd358"
      },
      "execution_count": 15,
      "outputs": [
        {
          "output_type": "stream",
          "name": "stdout",
          "text": [
            "NaN values in X_train: 0\n",
            "NaN values in X_val: 0\n",
            "Logistic Regression Accuracy: 0.7886178861788617\n",
            "              precision    recall  f1-score   support\n",
            "\n",
            "           0       0.95      0.42      0.58        43\n",
            "           1       0.76      0.99      0.86        80\n",
            "\n",
            "    accuracy                           0.79       123\n",
            "   macro avg       0.85      0.70      0.72       123\n",
            "weighted avg       0.83      0.79      0.76       123\n",
            "\n",
            "Random Forest Accuracy: 0.7804878048780488\n",
            "              precision    recall  f1-score   support\n",
            "\n",
            "           0       0.86      0.44      0.58        43\n",
            "           1       0.76      0.96      0.85        80\n",
            "\n",
            "    accuracy                           0.78       123\n",
            "   macro avg       0.81      0.70      0.72       123\n",
            "weighted avg       0.80      0.78      0.76       123\n",
            "\n"
          ]
        }
      ]
    },
    {
      "cell_type": "code",
      "execution_count": 11,
      "metadata": {
        "colab": {
          "base_uri": "https://localhost:8080/"
        },
        "id": "WiN9OjYOEcEQ",
        "outputId": "21f21af9-01fd-4817-b486-28b9b93cf2dc"
      },
      "outputs": [
        {
          "output_type": "stream",
          "name": "stdout",
          "text": [
            "NaN values in X_train: 0\n",
            "NaN values in X_val: 0\n",
            "Logistic Regression Accuracy: 0.7886178861788617\n",
            "              precision    recall  f1-score   support\n",
            "\n",
            "           0       0.95      0.42      0.58        43\n",
            "           1       0.76      0.99      0.86        80\n",
            "\n",
            "    accuracy                           0.79       123\n",
            "   macro avg       0.85      0.70      0.72       123\n",
            "weighted avg       0.83      0.79      0.76       123\n",
            "\n",
            "Random Forest Accuracy: 0.7804878048780488\n",
            "              precision    recall  f1-score   support\n",
            "\n",
            "           0       0.86      0.44      0.58        43\n",
            "           1       0.76      0.96      0.85        80\n",
            "\n",
            "    accuracy                           0.78       123\n",
            "   macro avg       0.81      0.70      0.72       123\n",
            "weighted avg       0.80      0.78      0.76       123\n",
            "\n",
            "Best Parameters: {'max_depth': 10, 'min_samples_leaf': 1, 'min_samples_split': 5, 'n_estimators': 200}\n"
          ]
        }
      ],
      "source": [
        "# Encoding Loan_Status column in the train dataset\n",
        "train_data['Loan_Status'] = train_data['Loan_Status'].apply(lambda x: 1 if x == 'Y' else 0)\n",
        "\n",
        "# Split data into features (X) and target (y)\n",
        "X = train_data.drop(columns=['Loan_ID', 'Loan_Status'])\n",
        "y = train_data['Loan_Status']\n",
        "\n",
        "# Ensure the same pre-processing is applied to the test dataset\n",
        "X_test_final = test_data.drop(columns=['Loan_ID'])\n",
        "\n",
        "# Train-test split on the train dataset for model evaluation\n",
        "X_train, X_val, y_train, y_val = train_test_split(X, y, test_size=0.2, random_state=42)\n",
        "\n",
        "# Feature scaling\n",
        "scaler = StandardScaler()\n",
        "X_train = scaler.fit_transform(X_train)\n",
        "X_val = scaler.transform(X_val)\n",
        "X_test_final = scaler.transform(X_test_final)\n",
        "\n",
        "# Check for NaN values in the train and validation datasets\n",
        "print(\"NaN values in X_train:\", np.isnan(X_train).sum())\n",
        "print(\"NaN values in X_val:\", np.isnan(X_val).sum())\n",
        "\n",
        "# If NaN values are present, inspect and handle them\n",
        "if np.isnan(X_train).sum() > 0:\n",
        "    print(\"Columns with NaN values in X_train:\")\n",
        "    for col in X.columns:\n",
        "        if np.isnan(X_train[:, X.columns.get_loc(col)]).sum() > 0:\n",
        "            print(f\"{col} has NaN values\")\n",
        "\n",
        "# If no NaN values are present, proceed with model training\n",
        "if np.isnan(X_train).sum() == 0 and np.isnan(X_val).sum() == 0:\n",
        "    # Modeling\n",
        "    # Logistic Regression\n",
        "    logit_model = LogisticRegression()\n",
        "    logit_model.fit(X_train, y_train)\n",
        "    y_val_pred = logit_model.predict(X_val)\n",
        "    print(f'Logistic Regression Accuracy: {accuracy_score(y_val, y_val_pred)}')\n",
        "    print(classification_report(y_val, y_val_pred))\n",
        "\n",
        "    # Random Forest\n",
        "    rf_model = RandomForestClassifier(random_state=42)\n",
        "    rf_model.fit(X_train, y_train)\n",
        "    y_val_pred = rf_model.predict(X_val)\n",
        "    print(f'Random Forest Accuracy: {accuracy_score(y_val, y_val_pred)}')\n",
        "    print(classification_report(y_val, y_val_pred))\n",
        "\n",
        "    # Fine-tuning (example with Random Forest)\n",
        "    param_grid = {\n",
        "        'n_estimators': [100, 200],\n",
        "        'max_depth': [10, 20],\n",
        "        'min_samples_split': [2, 5],\n",
        "        'min_samples_leaf': [1, 2]\n",
        "    }\n",
        "\n",
        "    grid_search = GridSearchCV(RandomForestClassifier(random_state=42), param_grid, cv=5, scoring='accuracy')\n",
        "    grid_search.fit(X_train, y_train)\n",
        "    print(f'Best Parameters: {grid_search.best_params_}')\n",
        "\n",
        "    # Final model using the best estimator\n",
        "    best_model = grid_search.best_estimator_\n",
        "    best_model.fit(X_train, y_train)\n",
        "\n",
        "    # Predictions on the test dataset\n",
        "    y_test_pred = best_model.predict(X_test_final)\n",
        "\n",
        "    # Replace 'Loan_Status' in sample submission with predictions\n",
        "    submission = pd.read_csv('/content/sample_submission_49d68Cx.csv')\n",
        "    submission['Loan_Status'] = ['Y' if x == 1 else 'N' for x in y_test_pred]\n",
        "\n",
        "    # Save the submission file\n",
        "    submission.to_csv('/content/final_submission.csv', index=False)\n"
      ]
    }
  ]
}