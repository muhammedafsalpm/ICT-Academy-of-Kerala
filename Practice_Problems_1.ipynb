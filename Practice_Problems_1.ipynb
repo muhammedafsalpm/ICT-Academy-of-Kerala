{
  "nbformat": 4,
  "nbformat_minor": 0,
  "metadata": {
    "colab": {
      "provenance": [],
      "authorship_tag": "ABX9TyOsHBJ269Omcu2SLOmiFLOP",
      "include_colab_link": true
    },
    "kernelspec": {
      "name": "python3",
      "display_name": "Python 3"
    },
    "language_info": {
      "name": "python"
    }
  },
  "cells": [
    {
      "cell_type": "markdown",
      "metadata": {
        "id": "view-in-github",
        "colab_type": "text"
      },
      "source": [
        "<a href=\"https://colab.research.google.com/github/muhammedafsalpm/ICT-Academy-of-Kerala/blob/main/Practice_Problems_1.ipynb\" target=\"_parent\"><img src=\"https://colab.research.google.com/assets/colab-badge.svg\" alt=\"Open In Colab\"/></a>"
      ]
    },
    {
      "cell_type": "code",
      "execution_count": 1,
      "metadata": {
        "colab": {
          "base_uri": "https://localhost:8080/"
        },
        "id": "o3qn3kzrWbQk",
        "outputId": "a28a4a0b-5636-41e0-8a1a-90babf3a9cdf"
      },
      "outputs": [
        {
          "output_type": "stream",
          "name": "stdout",
          "text": [
            "Enter the radius of the circle: 3\n",
            "Area of the circle is 28.26\n"
          ]
        }
      ],
      "source": [
        "'''1. Write a Python program which accepts the radius of a circle from the user\n",
        "and compute the area.\n",
        "Sample input: Enter the radius: 3\n",
        "Sample output: Area of Circle is 28.59999999999'''\n",
        "\n",
        "radius = float(input(\"Enter the radius of the circle: \"))\n",
        "area = 3.14 * radius ** 2\n",
        "print(\"Area of the circle is\",area)"
      ]
    },
    {
      "cell_type": "code",
      "source": [
        "'''2. Write a Python Program to accept the details of a student like name, roll\n",
        "number and mark and display it.\n",
        "Sample input: Enter the name: Anisha\n",
        "Enter the roll number: 21\n",
        "Enter the mark: 78\n",
        "Sample output: Name: Anisha\n",
        "Roll No: 21\n",
        "Mark: 78'''\n",
        "\n",
        "# Accept student details\n",
        "name = input(\"Enter the name: \")\n",
        "roll_number = int(input(\"Enter the roll number: \"))\n",
        "mark = int(input(\"Enter the mark: \"))\n",
        "\n",
        "# Display the student details\n",
        "print(\"\\nStudent Details:\")\n",
        "print(\"Name:\", name)\n",
        "print(\"Roll No:\", roll_number)\n",
        "print(\"Mark:\", mark)\n"
      ],
      "metadata": {
        "colab": {
          "base_uri": "https://localhost:8080/"
        },
        "id": "XNUpbK0-X_z6",
        "outputId": "b1fcaa49-70b6-463e-82e9-23e0890bdc3b"
      },
      "execution_count": 4,
      "outputs": [
        {
          "output_type": "stream",
          "name": "stdout",
          "text": [
            "Enter the name: Anisha\n",
            "Enter the roll number: 21\n",
            "Enter the mark: 78\n",
            "\n",
            "Student Details:\n",
            "Name: Anisha\n",
            "Roll No: 21\n",
            "Mark: 78\n"
          ]
        }
      ]
    },
    {
      "cell_type": "code",
      "source": [
        "'''3. Write a Python program to get the largest number from a list.\n",
        "Sample input: 12, 3, 47, 10\n",
        "Sample output: 47 is the largest number.'''\n",
        "\n",
        "# Accept a list of numbers from the user\n",
        "numbers = input(\"Enter numbers separated by commas: \")\n",
        "\n",
        "# Convert the input string into a list of integers\n",
        "numbers_list = [int(num) for num in numbers.split(',')]\n",
        "\n",
        "# Find the largest number in the list\n",
        "largest_number = max(numbers_list)\n",
        "\n",
        "# Display the largest number\n",
        "print(f\"{largest_number} is the largest number.\")\n"
      ],
      "metadata": {
        "colab": {
          "base_uri": "https://localhost:8080/"
        },
        "id": "IxP_O19CZA1Z",
        "outputId": "5e87e4cc-d4cb-4b3f-dc13-49f7eeffad68"
      },
      "execution_count": 6,
      "outputs": [
        {
          "output_type": "stream",
          "name": "stdout",
          "text": [
            "Enter numbers separated by commas: 12, 3, 47, 10\n",
            "47 is the largest number.\n"
          ]
        }
      ]
    },
    {
      "cell_type": "code",
      "source": [
        "'''4. Given a range of first 10 numbers, write a Python program to iterate from\n",
        "start number to the end number and print the sum of the current number\n",
        "and previous number.\n",
        "Sample input: 1….10\n",
        "Sample output: Current Number 1 Previous Number 0 Sum: 1 Current\n",
        "Number 2 Previous Number 1 Sum: 3 Current Number 3 Previous\n",
        "Number 2 Sum: 5… Current Number 10 Previous Number 9 Sum: 19'''\n",
        "\n",
        "# Define the range of numbers\n",
        "start_number = 1\n",
        "end_number = 10\n",
        "\n",
        "# Initialize the previous number\n",
        "previous_number = 0\n",
        "\n",
        "# Iterate through the range of numbers\n",
        "for current_number in range(start_number, end_number + 1):\n",
        "    # Calculate the sum of the current and previous numbers\n",
        "    current_sum = current_number + previous_number\n",
        "\n",
        "    # Print the result\n",
        "    print(f\"Current Number {current_number} Previous Number {previous_number} Sum: {current_sum}\")\n",
        "\n",
        "    # Update the previous number\n",
        "    previous_number = current_number\n"
      ],
      "metadata": {
        "colab": {
          "base_uri": "https://localhost:8080/"
        },
        "id": "kpQAherLaP_1",
        "outputId": "1cbb2263-208f-4c25-8379-50b2c6b45565"
      },
      "execution_count": 7,
      "outputs": [
        {
          "output_type": "stream",
          "name": "stdout",
          "text": [
            "Current Number 1 Previous Number 0 Sum: 1\n",
            "Current Number 2 Previous Number 1 Sum: 3\n",
            "Current Number 3 Previous Number 2 Sum: 5\n",
            "Current Number 4 Previous Number 3 Sum: 7\n",
            "Current Number 5 Previous Number 4 Sum: 9\n",
            "Current Number 6 Previous Number 5 Sum: 11\n",
            "Current Number 7 Previous Number 6 Sum: 13\n",
            "Current Number 8 Previous Number 7 Sum: 15\n",
            "Current Number 9 Previous Number 8 Sum: 17\n",
            "Current Number 10 Previous Number 9 Sum: 19\n"
          ]
        }
      ]
    },
    {
      "cell_type": "code",
      "source": [
        "'''5. Write a Python program to print only those numbers which are divisible\n",
        "of 5.\n",
        "Sample input: 10, 20,33,46,55 Sample output: 10, 20, 55'''\n",
        "\n",
        "# Accept a list of numbers from the user\n",
        "numbers = input(\"Enter numbers separated by commas: \")\n",
        "\n",
        "# Convert the input string into a list of integers\n",
        "numbers_list = [int(num) for num in numbers.split(',')]\n",
        "\n",
        "# List to store numbers divisible by 5\n",
        "divisible_by_5 = []\n",
        "\n",
        "# Iterate through the list and check divisibility by 5\n",
        "for num in numbers_list:\n",
        "    if num % 5 == 0:\n",
        "        divisible_by_5.append(num)\n",
        "\n",
        "# Print the filtered numbers\n",
        "print(\"Numbers divisible by 5:\", ', '.join(map(str, divisible_by_5)))\n"
      ],
      "metadata": {
        "colab": {
          "base_uri": "https://localhost:8080/"
        },
        "id": "VxMns44NbEia",
        "outputId": "cc58a837-9c6b-4af0-f094-569875d51c5f"
      },
      "execution_count": 12,
      "outputs": [
        {
          "output_type": "stream",
          "name": "stdout",
          "text": [
            "Enter numbers separated by commas: 10,20,33,46,55\n",
            "Numbers divisible by 5: 10, 20, 55\n"
          ]
        }
      ]
    },
    {
      "cell_type": "code",
      "source": [
        "'''6. Write a Python program to check whether a number is prime or not.\n",
        "Sample input: Enter the number: 3\n",
        "Sample output: 3 is a prime number.'''\n",
        "\n",
        "# Accept input from the user\n",
        "number = int(input(\"Enter the number: \"))\n",
        "\n",
        "# Check if the number is less than or equal to 1\n",
        "if number <= 1:\n",
        "    print(f\"{number} is not a prime number.\")\n",
        "    exit()\n",
        "\n",
        "# Check if the number is divisible by any number other than 1 and itself\n",
        "for i in range(2, int(number ** 0.5) + 1):\n",
        "    if number % i == 0:\n",
        "        print(f\"{number} is not a prime number.\")\n",
        "        break\n",
        "else:\n",
        "    print(f\"{number} is a prime number.\")\n"
      ],
      "metadata": {
        "colab": {
          "base_uri": "https://localhost:8080/"
        },
        "id": "nTMXViH5cnVQ",
        "outputId": "b5c204b5-0996-4924-9ad6-28ffd3146485"
      },
      "execution_count": 13,
      "outputs": [
        {
          "output_type": "stream",
          "name": "stdout",
          "text": [
            "Enter the number: 3\n",
            "3 is a prime number.\n"
          ]
        }
      ]
    },
    {
      "cell_type": "code",
      "source": [
        "'''7. Write a Python program to reverse a list using for loop.\n",
        "Sample input: 10,40,30,70\n",
        "Sample output: 70,30,40,10'''\n",
        "\n",
        "# Accept input from the user\n",
        "numbers = input(\"Enter numbers separated by commas: \")\n",
        "\n",
        "# Convert the input string into a list of integers\n",
        "numbers_list = [int(num) for num in numbers.split(',')]\n",
        "\n",
        "# Reverse the list using slicing\n",
        "reversed_list = numbers_list[::-1]\n",
        "\n",
        "# Convert the reversed list to a comma-separated string for output\n",
        "reversed_numbers_str = ', '.join(map(str, reversed_list))\n",
        "\n",
        "# Print the reversed list\n",
        "print(\"Reversed list:\", reversed_numbers_str)\n"
      ],
      "metadata": {
        "colab": {
          "base_uri": "https://localhost:8080/"
        },
        "id": "xMKD3VPveCA3",
        "outputId": "fd4a0eb2-b35d-4524-b8c8-3903acb93c0e"
      },
      "execution_count": 14,
      "outputs": [
        {
          "output_type": "stream",
          "name": "stdout",
          "text": [
            "Enter numbers separated by commas: 10,40,30,70\n",
            "Reversed list: 70, 30, 40, 10\n"
          ]
        }
      ]
    },
    {
      "cell_type": "code",
      "source": [
        "'''8. Write a Python program to print the following pattern.\n",
        "*\n",
        "**\n",
        "***\n",
        "****'''\n",
        "\n",
        "# Define the number of rows for the pattern\n",
        "rows = 4\n",
        "\n",
        "# Iterate over each row\n",
        "for i in range(1, rows + 1):\n",
        "    # Print '*' for each column in the row\n",
        "    print('*' * i)\n"
      ],
      "metadata": {
        "colab": {
          "base_uri": "https://localhost:8080/"
        },
        "id": "tFN6XHWHesca",
        "outputId": "178eca9e-ca74-4178-84e6-f5c7d5a8e668"
      },
      "execution_count": 15,
      "outputs": [
        {
          "output_type": "stream",
          "name": "stdout",
          "text": [
            "*\n",
            "**\n",
            "***\n",
            "****\n"
          ]
        }
      ]
    },
    {
      "cell_type": "code",
      "source": [
        "'''9. Write a Python program to find the maximum of three numbers\n",
        "Sample input: 34,12,7\n",
        "Sample output: 34'''\n",
        "\n",
        "\n",
        "# Accept input from the user\n",
        "numbers = input(\"Enter three numbers separated by commas: \")\n",
        "\n",
        "# Convert the input string into a list of integers\n",
        "numbers_list = [int(num) for num in numbers.split(',')]\n",
        "\n",
        "# Initialize a variable to store the maximum number\n",
        "maximum_number = numbers_list[0]\n",
        "\n",
        "# Compare each number with the current maximum using if statements\n",
        "for num in numbers_list:\n",
        "    if num > maximum_number:\n",
        "        maximum_number = num\n",
        "\n",
        "# Print the maximum number\n",
        "print(\"Maximum number:\", maximum_number)\n"
      ],
      "metadata": {
        "colab": {
          "base_uri": "https://localhost:8080/"
        },
        "id": "th6soCmqfFZG",
        "outputId": "89d7cd64-8a66-427e-b0ea-f96ae3766a1c"
      },
      "execution_count": 16,
      "outputs": [
        {
          "output_type": "stream",
          "name": "stdout",
          "text": [
            "Enter three numbers separated by commas: 34,12,7\n",
            "Maximum number: 34\n"
          ]
        }
      ]
    },
    {
      "cell_type": "code",
      "source": [
        "'''10. Write a Python program to construct the following pattern, using a\n",
        "nested for loop.\n",
        "*\n",
        "**\n",
        "***\n",
        "****\n",
        "*****\n",
        "****\n",
        "***\n",
        "**\n",
        "*'''\n",
        "\n",
        "# Define the number of rows for the pattern\n",
        "rows = 5\n",
        "\n",
        "# Construct the upper part of the pattern\n",
        "for i in range(rows):\n",
        "    print('*' * (i + 1))\n",
        "\n",
        "# Construct the lower part of the pattern\n",
        "for i in range(rows - 1, 0, -1):\n",
        "    print('*' * i)\n"
      ],
      "metadata": {
        "colab": {
          "base_uri": "https://localhost:8080/"
        },
        "id": "Fc6wQf1RfkMs",
        "outputId": "0cff4d60-6293-47ef-e285-0fb3631076dc"
      },
      "execution_count": 17,
      "outputs": [
        {
          "output_type": "stream",
          "name": "stdout",
          "text": [
            "*\n",
            "**\n",
            "***\n",
            "****\n",
            "*****\n",
            "****\n",
            "***\n",
            "**\n",
            "*\n"
          ]
        }
      ]
    }
  ]
}